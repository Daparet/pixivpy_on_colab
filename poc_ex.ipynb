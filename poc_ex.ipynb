{
  "nbformat": 4,
  "nbformat_minor": 0,
  "metadata": {
    "colab": {
      "name": "poc_ex",
      "provenance": [],
      "collapsed_sections": [],
      "toc_visible": true,
      "authorship_tag": "ABX9TyP6xKIQLogJ3c4sCMVZisDa",
      "include_colab_link": true
    },
    "kernelspec": {
      "display_name": "Python 3",
      "name": "python3"
    }
  },
  "cells": [
    {
      "cell_type": "markdown",
      "metadata": {
        "id": "view-in-github",
        "colab_type": "text"
      },
      "source": [
        "<a href=\"https://colab.research.google.com/github/Daparet/pixivpy_on_colab/blob/main/poc_ex.ipynb\" target=\"_parent\"><img src=\"https://colab.research.google.com/assets/colab-badge.svg\" alt=\"Open In Colab\"/></a>"
      ]
    },
    {
      "cell_type": "markdown",
      "metadata": {
        "id": "ZDKiysLo_6Qs"
      },
      "source": [
        "# **PixivPy on Colaboratory**\n",
        "Pythonで動作するPixivAPIである、[PixivPy](https://github.com/upbit/pixivpy)をColaboratory上で実行可能にしたものです<br>\n",
        "このコードの実行により、指定タグのある程度人気な作品をプレビュー表示させることができます<br><br>\n",
        "[セルの実行方法など、Colaboratoryの基本的な使い方](https://pyhoo.jp/google-colaboratory-manual#:~:text=%E3%81%8C%E3%81%A7%E3%81%8D%E3%81%BE%E3%81%99%E3%80%82-,Google%20Colab%E3%81%AE%E3%82%BB%E3%83%AB%E3%81%AE%E5%AE%9F%E8%A1%8C%E6%96%B9%E6%B3%95%EF%BC%88shift%2Benter%EF%BC%89,%E3%81%99%E3%82%8B%E3%81%93%E3%81%A8%E3%82%82%E5%8F%AF%E8%83%BD%E3%81%A7%E3%81%99%E3%80%82)\n",
        "<br><br>\n",
        "※R18の指定ですが、\"all\"を指定した場合(A)が、\"on\"を指定した場合(R)がフォルダ名の後に付きます\n"
      ]
    },
    {
      "cell_type": "markdown",
      "metadata": {
        "id": "7HzHo-JruORE"
      },
      "source": [
        "#### まずはこれを脳死で実行しよう"
      ]
    },
    {
      "cell_type": "code",
      "metadata": {
        "id": "sTyMrZhZmmOP",
        "outputId": "37a2a38b-cfb4-41a2-fe2b-0c46dd86fd09",
        "colab": {
          "base_uri": "https://localhost:8080/"
        }
      },
      "source": [
        "!pip install pixivpy\n",
        "!git clone https://github.com/Daparet/pixivpy_on_colab.git\n",
        "!cp pixivpy_on_colab/poc_utils.py poc_utils.py\n",
        "!rm -rf sample_data\n",
        "!rm -rf pixivpy_on_colab\n",
        "import poc_utils as poc\n",
        "!rm -rf __pycache__"
      ],
      "execution_count": null,
      "outputs": [
        {
          "output_type": "stream",
          "text": [
            "Requirement already satisfied: pixivpy in /usr/local/lib/python3.6/dist-packages (3.5.10)\n",
            "Requirement already satisfied: cloudscraper>=1.0 in /usr/local/lib/python3.6/dist-packages (from pixivpy) (1.2.48)\n",
            "Requirement already satisfied: requests>=2.0 in /usr/local/lib/python3.6/dist-packages (from pixivpy) (2.23.0)\n",
            "Requirement already satisfied: requests-toolbelt>=0.9.1 in /usr/local/lib/python3.6/dist-packages (from pixivpy) (0.9.1)\n",
            "Requirement already satisfied: pyparsing>=2.4.7 in /usr/local/lib/python3.6/dist-packages (from cloudscraper>=1.0->pixivpy) (2.4.7)\n",
            "Requirement already satisfied: idna<3,>=2.5 in /usr/local/lib/python3.6/dist-packages (from requests>=2.0->pixivpy) (2.10)\n",
            "Requirement already satisfied: certifi>=2017.4.17 in /usr/local/lib/python3.6/dist-packages (from requests>=2.0->pixivpy) (2020.6.20)\n",
            "Requirement already satisfied: urllib3!=1.25.0,!=1.25.1,<1.26,>=1.21.1 in /usr/local/lib/python3.6/dist-packages (from requests>=2.0->pixivpy) (1.24.3)\n",
            "Requirement already satisfied: chardet<4,>=3.0.2 in /usr/local/lib/python3.6/dist-packages (from requests>=2.0->pixivpy) (3.0.4)\n",
            "Cloning into 'pixivpy_on_colab'...\n",
            "remote: Enumerating objects: 37, done.\u001b[K\n",
            "remote: Counting objects: 100% (37/37), done.\u001b[K\n",
            "remote: Compressing objects: 100% (27/27), done.\u001b[K\n",
            "remote: Total 37 (delta 12), reused 28 (delta 8), pack-reused 0\u001b[K\n",
            "Unpacking objects: 100% (37/37), done.\n"
          ],
          "name": "stdout"
        }
      ]
    },
    {
      "cell_type": "markdown",
      "metadata": {
        "id": "HLhA_YHEA7CU"
      },
      "source": [
        "## **フォルダ生成 + プレビュー！**"
      ]
    },
    {
      "cell_type": "code",
      "metadata": {
        "id": "OducyvB61Q-2"
      },
      "source": [
        "searchtag = \"鬼滅の刃\"  #検索タグを入力。半角スペースで分けることで複数タグ検索可能\n",
        "R18mode   = \"off\"   #\"off\"=全年齢のみ \"all\"=両方 \"on\"=R-18のみ\n",
        "\n",
        "poc.generate(searchtag, R18mode)"
      ],
      "execution_count": null,
      "outputs": []
    },
    {
      "cell_type": "markdown",
      "metadata": {
        "id": "jicMOPMYPWpF"
      },
      "source": [
        "#### 生成したフォルダリストの確認"
      ]
    },
    {
      "cell_type": "code",
      "metadata": {
        "id": "usJvRyl3PP_n",
        "outputId": "6b9abd34-3e72-4c48-a0cb-efd42656fefa",
        "colab": {
          "base_uri": "https://localhost:8080/"
        }
      },
      "source": [
        "print(\"生成したフォルダリスト\")\n",
        "print(\"----------------------------------------------------\")\n",
        "!ls -d"
      ],
      "execution_count": null,
      "outputs": [
        {
          "output_type": "stream",
          "text": [
            "生成したフォルダリスト\n",
            "----------------------------------------------------\n",
            ".\n"
          ],
          "name": "stdout"
        }
      ]
    },
    {
      "cell_type": "markdown",
      "metadata": {
        "id": "tJPeG3WXDlwr"
      },
      "source": [
        "## プレビューのみしたいとき"
      ]
    },
    {
      "cell_type": "code",
      "metadata": {
        "id": "bvv9oWC0DHvE"
      },
      "source": [
        "pre_dirname = \"鬼滅の刃\" #ここに見たいタグ名を入力(既に生成したもの限定)\n",
        "poc.preview(pre_dirname)"
      ],
      "execution_count": null,
      "outputs": []
    }
  ]
}