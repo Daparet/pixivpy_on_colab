{
  "nbformat": 4,
  "nbformat_minor": 0,
  "metadata": {
    "colab": {
      "name": "PixivPy_on_Colaboratory",
      "provenance": [],
      "collapsed_sections": [],
      "toc_visible": true,
      "authorship_tag": "ABX9TyPWig30m0Nz19JRwuB2Dpas",
      "include_colab_link": true
    },
    "kernelspec": {
      "display_name": "Python 3",
      "name": "python3"
    }
  },
  "cells": [
    {
      "cell_type": "markdown",
      "metadata": {
        "id": "view-in-github",
        "colab_type": "text"
      },
      "source": [
        "<a href=\"https://colab.research.google.com/github/Daparet/pixivpy_on_colab/blob/main/example.ipynb\" target=\"_parent\"><img src=\"https://colab.research.google.com/assets/colab-badge.svg\" alt=\"Open In Colab\"/></a>"
      ]
    },
    {
      "cell_type": "markdown",
      "metadata": {
        "id": "ZDKiysLo_6Qs"
      },
      "source": [
        "# **PixivPy on Colaboratory**\n",
        "Pythonで動作するPixivAPIである、[PixivPy](https://github.com/upbit/pixivpy)をColaboratory上で実行可能にしたものです<br>\n",
        "このコードの実行により、指定タグのある程度人気な作品をプレビュー表示させることができます<br><br>\n",
        "[セルの実行方法など、Colaboratoryの基本的な使い方](https://pyhoo.jp/google-colaboratory-manual#:~:text=%E3%81%8C%E3%81%A7%E3%81%8D%E3%81%BE%E3%81%99%E3%80%82-,Google%20Colab%E3%81%AE%E3%82%BB%E3%83%AB%E3%81%AE%E5%AE%9F%E8%A1%8C%E6%96%B9%E6%B3%95%EF%BC%88shift%2Benter%EF%BC%89,%E3%81%99%E3%82%8B%E3%81%93%E3%81%A8%E3%82%82%E5%8F%AF%E8%83%BD%E3%81%A7%E3%81%99%E3%80%82)\n",
        "<br><br>\n",
        "※R18の指定ですが、\"all\"を指定した場合(A)が、\"on\"を指定した場合(R)がフォルダ名の後に付きます\n"
      ]
    },
    {
      "cell_type": "markdown",
      "metadata": {
        "id": "7HzHo-JruORE"
      },
      "source": [
        "#### まずはこれを脳死で実行しよう"
      ]
    },
    {
      "cell_type": "code",
      "metadata": {
        "id": "sTyMrZhZmmOP"
      },
      "source": [
        "!pip install pixivpy\n",
        "!git clone https://github.com/Daparet/pixivpy_on_colab.git\n",
        "!cp pixivpy_on_colab/poc_utils.py poc_utils.py\n",
        "!rm -rf sample_data\n",
        "!rm -rf pixivpy_on_colab\n",
        "!rm -rf __pycashe__\n",
        "\n",
        "import poc_utils as poc"
      ],
      "execution_count": null,
      "outputs": []
    },
    {
      "cell_type": "markdown",
      "metadata": {
        "id": "HLhA_YHEA7CU"
      },
      "source": [
        "## **フォルダ生成 + プレビュー！**"
      ]
    },
    {
      "cell_type": "code",
      "metadata": {
        "id": "OducyvB61Q-2"
      },
      "source": [
        "searchtag = \"鬼滅の刃\"  #検索タグを入力。半角スペースで分けることで複数タグ検索可能\n",
        "R18mode   = \"off\"   #\"off\"=全年齢のみ \"all\"=両方 \"on\"=R-18のみ\n",
        "\n",
        "poc.generate(searchtag, R18mode)"
      ],
      "execution_count": null,
      "outputs": []
    },
    {
      "cell_type": "markdown",
      "metadata": {
        "id": "jicMOPMYPWpF"
      },
      "source": [
        "#### 生成したフォルダリストの確認"
      ]
    },
    {
      "cell_type": "code",
      "metadata": {
        "id": "usJvRyl3PP_n"
      },
      "source": [
        "print(\"生成したフォルダリスト\")\n",
        "print(\"----------------------------------------------------\")\n",
        "!ls -d */"
      ],
      "execution_count": null,
      "outputs": []
    },
    {
      "cell_type": "markdown",
      "metadata": {
        "id": "tJPeG3WXDlwr"
      },
      "source": [
        "## プレビューのみしたいとき"
      ]
    },
    {
      "cell_type": "code",
      "metadata": {
        "id": "bvv9oWC0DHvE"
      },
      "source": [
        "pre_dirname = \"鬼滅の刃\" #ここに見たいタグ名を入力(既に生成したもの限定)\n",
        "poc.preview(pre_dirname)"
      ],
      "execution_count": null,
      "outputs": []
    }
  ]
}